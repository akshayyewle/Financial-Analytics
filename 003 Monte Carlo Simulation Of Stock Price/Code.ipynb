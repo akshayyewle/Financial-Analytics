{
 "cells": [
  {
   "cell_type": "markdown",
   "metadata": {},
   "source": [
    "# **Setup**\n",
    "\n",
    "* https://www.youtube.com/watch?v=6-dhdMDiYWQ"
   ]
  },
  {
   "cell_type": "code",
   "execution_count": 1,
   "metadata": {},
   "outputs": [
    {
     "name": "stdout",
     "output_type": "stream",
     "text": [
      "Python 3.11.6\n",
      "CPU Cores:  16\n",
      "System RAM: 15.69\n"
     ]
    }
   ],
   "source": [
    "!python --version\n",
    "\n",
    "from psutil import *\n",
    "print('CPU Cores: ',cpu_count())\n",
    "print(f'System RAM: {virtual_memory()[0]/(1024**3):.2f}')"
   ]
  },
  {
   "cell_type": "code",
   "execution_count": 3,
   "metadata": {},
   "outputs": [],
   "source": [
    "import os\n",
    "from IPython.display import clear_output\n",
    "\n",
    "import pandas as pd \n",
    "import numpy as np \n",
    "import matplotlib.pyplot as plt\n",
    "import datetime as dt\n",
    "import yfinance as yf\n",
    "from pandas_datareader import data as pdr"
   ]
  },
  {
   "cell_type": "markdown",
   "metadata": {},
   "source": [
    "# **Apple Stock Data**"
   ]
  },
  {
   "cell_type": "code",
   "execution_count": 4,
   "metadata": {},
   "outputs": [
    {
     "data": {
      "text/plain": [
       "Date\n",
       "2004-01-05 00:00:00-05:00      0.335591\n",
       "2004-01-06 00:00:00-05:00      0.334379\n",
       "2004-01-07 00:00:00-05:00      0.341948\n",
       "2004-01-08 00:00:00-05:00      0.353604\n",
       "2004-01-09 00:00:00-05:00      0.348154\n",
       "                                ...    \n",
       "2023-12-27 00:00:00-05:00    193.149994\n",
       "2023-12-28 00:00:00-05:00    193.580002\n",
       "2023-12-29 00:00:00-05:00    192.529999\n",
       "2024-01-02 00:00:00-05:00    185.639999\n",
       "2024-01-03 00:00:00-05:00    184.250000\n",
       "Name: Close, Length: 5034, dtype: float64"
      ]
     },
     "execution_count": 4,
     "metadata": {},
     "output_type": "execute_result"
    }
   ],
   "source": [
    "data = yf.Ticker('AAPL').history(period='20y')['Close']\n",
    "data"
   ]
  },
  {
   "cell_type": "code",
   "execution_count": 5,
   "metadata": {},
   "outputs": [
    {
     "data": {
      "text/plain": [
       "Date\n",
       "2004-01-05 00:00:00-05:00         NaN\n",
       "2004-01-06 00:00:00-05:00   -0.003610\n",
       "2004-01-07 00:00:00-05:00    0.022636\n",
       "2004-01-08 00:00:00-05:00    0.034086\n",
       "2004-01-09 00:00:00-05:00   -0.015412\n",
       "                               ...   \n",
       "2023-12-27 00:00:00-05:00    0.000518\n",
       "2023-12-28 00:00:00-05:00    0.002226\n",
       "2023-12-29 00:00:00-05:00   -0.005424\n",
       "2024-01-02 00:00:00-05:00   -0.035787\n",
       "2024-01-03 00:00:00-05:00   -0.007488\n",
       "Name: Close, Length: 5034, dtype: float64"
      ]
     },
     "execution_count": 5,
     "metadata": {},
     "output_type": "execute_result"
    }
   ],
   "source": [
    "# Daily Returns\n",
    "AAPL_Returns = data.pct_change()\n",
    "AAPL_Returns"
   ]
  },
  {
   "cell_type": "code",
   "execution_count": 6,
   "metadata": {},
   "outputs": [
    {
     "data": {
      "text/plain": [
       "0.0014701420177469467"
      ]
     },
     "execution_count": 6,
     "metadata": {},
     "output_type": "execute_result"
    }
   ],
   "source": [
    "# Mean Returns\n",
    "AAPL_Returns.mean()"
   ]
  },
  {
   "cell_type": "code",
   "execution_count": 7,
   "metadata": {},
   "outputs": [
    {
     "data": {
      "text/plain": [
       "0.00043258629313282747"
      ]
     },
     "execution_count": 7,
     "metadata": {},
     "output_type": "execute_result"
    }
   ],
   "source": [
    "# Daily Returns Variance\n",
    "AAPL_Returns.var()"
   ]
  },
  {
   "cell_type": "markdown",
   "metadata": {},
   "source": [
    "# **Data Import Function**"
   ]
  },
  {
   "cell_type": "code",
   "execution_count": 8,
   "metadata": {},
   "outputs": [],
   "source": [
    "# Define Function To Get Data\n",
    "def get_data(stocks, start_date, end_date):\n",
    "    # stockData = pdr.get_data_yahoo(stocks, start, end)\n",
    "    # stockData = stockData['Close']\n",
    "\n",
    "    stockData = yf.Ticker(stocks).history(start=start_date,end=end_date)['Close']\n",
    "\n",
    "    returns = stockData.pct_change()\n",
    "    meanReturns = returns.mean()\n",
    "    covMatrix = returns.cov()\n",
    "    return meanReturns, covMatrix"
   ]
  },
  {
   "cell_type": "markdown",
   "metadata": {},
   "source": [
    "# **Portfolio Simulation**"
   ]
  },
  {
   "cell_type": "markdown",
   "metadata": {},
   "source": [
    "## **Create Portfolio**"
   ]
  },
  {
   "cell_type": "code",
   "execution_count": 9,
   "metadata": {},
   "outputs": [
    {
     "data": {
      "text/plain": [
       "['CBA.AX', 'BHP.AX', 'TLS.AX', 'NAB.AX', 'WBC.AX', 'STO.AX']"
      ]
     },
     "execution_count": 9,
     "metadata": {},
     "output_type": "execute_result"
    }
   ],
   "source": [
    "# Create Portfolio\n",
    "portfolio = ['CBA','BHP','TLS','NAB','WBC','STO']\n",
    "\n",
    "# Create YFinance Tickers\n",
    "Stock_List_YFinance = [stock + '.AX' for stock in portfolio]\n",
    "Stock_List_YFinance"
   ]
  },
  {
   "cell_type": "markdown",
   "metadata": {},
   "source": [
    "## **Specify Simulation Time**"
   ]
  },
  {
   "cell_type": "code",
   "execution_count": 10,
   "metadata": {},
   "outputs": [
    {
     "name": "stdout",
     "output_type": "stream",
     "text": [
      "2023-03-10 13:00:29.924459 \n",
      " 2024-01-04 13:00:29.924459\n"
     ]
    }
   ],
   "source": [
    "# Specify Simualtion Start & End Date\n",
    "End_Date = dt.datetime.now()\n",
    "Start_Date = End_Date - dt.timedelta(days=300)\n",
    "\n",
    "print(Start_Date,'\\n',End_Date)"
   ]
  },
  {
   "cell_type": "code",
   "execution_count": 11,
   "metadata": {},
   "outputs": [
    {
     "ename": "TypeError",
     "evalue": "Series.cov() missing 1 required positional argument: 'other'",
     "output_type": "error",
     "traceback": [
      "\u001b[1;31m---------------------------------------------------------------------------\u001b[0m",
      "\u001b[1;31mTypeError\u001b[0m                                 Traceback (most recent call last)",
      "Cell \u001b[1;32mIn[11], line 1\u001b[0m\n\u001b[1;32m----> 1\u001b[0m \u001b[43m[\u001b[49m\u001b[43mget_data\u001b[49m\u001b[43m(\u001b[49m\u001b[43mstock\u001b[49m\u001b[43m,\u001b[49m\u001b[43mStart_Date\u001b[49m\u001b[43m,\u001b[49m\u001b[43mEnd_Date\u001b[49m\u001b[43m)\u001b[49m\u001b[43m \u001b[49m\u001b[38;5;28;43;01mfor\u001b[39;49;00m\u001b[43m \u001b[49m\u001b[43mstock\u001b[49m\u001b[43m \u001b[49m\u001b[38;5;129;43;01min\u001b[39;49;00m\u001b[43m \u001b[49m\u001b[43mStock_List_YFinance\u001b[49m\u001b[43m]\u001b[49m\n",
      "Cell \u001b[1;32mIn[11], line 1\u001b[0m, in \u001b[0;36m<listcomp>\u001b[1;34m(.0)\u001b[0m\n\u001b[1;32m----> 1\u001b[0m [\u001b[43mget_data\u001b[49m\u001b[43m(\u001b[49m\u001b[43mstock\u001b[49m\u001b[43m,\u001b[49m\u001b[43mStart_Date\u001b[49m\u001b[43m,\u001b[49m\u001b[43mEnd_Date\u001b[49m\u001b[43m)\u001b[49m \u001b[38;5;28;01mfor\u001b[39;00m stock \u001b[38;5;129;01min\u001b[39;00m Stock_List_YFinance]\n",
      "Cell \u001b[1;32mIn[8], line 10\u001b[0m, in \u001b[0;36mget_data\u001b[1;34m(stocks, start_date, end_date)\u001b[0m\n\u001b[0;32m      8\u001b[0m returns \u001b[38;5;241m=\u001b[39m stockData\u001b[38;5;241m.\u001b[39mpct_change()\n\u001b[0;32m      9\u001b[0m meanReturns \u001b[38;5;241m=\u001b[39m returns\u001b[38;5;241m.\u001b[39mmean()\n\u001b[1;32m---> 10\u001b[0m covMatrix \u001b[38;5;241m=\u001b[39m \u001b[43mreturns\u001b[49m\u001b[38;5;241;43m.\u001b[39;49m\u001b[43mcov\u001b[49m\u001b[43m(\u001b[49m\u001b[43m)\u001b[49m\n\u001b[0;32m     11\u001b[0m \u001b[38;5;28;01mreturn\u001b[39;00m meanReturns, covMatrix\n",
      "\u001b[1;31mTypeError\u001b[0m: Series.cov() missing 1 required positional argument: 'other'"
     ]
    }
   ],
   "source": [
    "[get_data(stock,Start_Date,End_Date) for stock in Stock_List_YFinance]"
   ]
  },
  {
   "cell_type": "code",
   "execution_count": 12,
   "metadata": {},
   "outputs": [
    {
     "ename": "AttributeError",
     "evalue": "'list' object has no attribute 'upper'",
     "output_type": "error",
     "traceback": [
      "\u001b[1;31m---------------------------------------------------------------------------\u001b[0m",
      "\u001b[1;31mAttributeError\u001b[0m                            Traceback (most recent call last)",
      "Cell \u001b[1;32mIn[12], line 1\u001b[0m\n\u001b[1;32m----> 1\u001b[0m Mean_Returns, Covar_Matrix \u001b[38;5;241m=\u001b[39m \u001b[43mget_data\u001b[49m\u001b[43m(\u001b[49m\u001b[43mStock_List_YFinance\u001b[49m\u001b[43m,\u001b[49m\u001b[43mStart_Date\u001b[49m\u001b[43m,\u001b[49m\u001b[43mEnd_Date\u001b[49m\u001b[43m)\u001b[49m\n",
      "Cell \u001b[1;32mIn[8], line 6\u001b[0m, in \u001b[0;36mget_data\u001b[1;34m(stocks, start_date, end_date)\u001b[0m\n\u001b[0;32m      2\u001b[0m \u001b[38;5;28;01mdef\u001b[39;00m \u001b[38;5;21mget_data\u001b[39m(stocks, start_date, end_date):\n\u001b[0;32m      3\u001b[0m     \u001b[38;5;66;03m# stockData = pdr.get_data_yahoo(stocks, start, end)\u001b[39;00m\n\u001b[0;32m      4\u001b[0m     \u001b[38;5;66;03m# stockData = stockData['Close']\u001b[39;00m\n\u001b[1;32m----> 6\u001b[0m     stockData \u001b[38;5;241m=\u001b[39m \u001b[43myf\u001b[49m\u001b[38;5;241;43m.\u001b[39;49m\u001b[43mTicker\u001b[49m\u001b[43m(\u001b[49m\u001b[43mstocks\u001b[49m\u001b[43m)\u001b[49m\u001b[38;5;241m.\u001b[39mhistory(start\u001b[38;5;241m=\u001b[39mstart_date,end\u001b[38;5;241m=\u001b[39mend_date)[\u001b[38;5;124m'\u001b[39m\u001b[38;5;124mClose\u001b[39m\u001b[38;5;124m'\u001b[39m]\n\u001b[0;32m      8\u001b[0m     returns \u001b[38;5;241m=\u001b[39m stockData\u001b[38;5;241m.\u001b[39mpct_change()\n\u001b[0;32m      9\u001b[0m     meanReturns \u001b[38;5;241m=\u001b[39m returns\u001b[38;5;241m.\u001b[39mmean()\n",
      "File \u001b[1;32mc:\\Users\\aksha\\AppData\\Local\\Programs\\Python\\Python311\\Lib\\site-packages\\yfinance\\ticker.py:34\u001b[0m, in \u001b[0;36mTicker.__init__\u001b[1;34m(self, ticker, session)\u001b[0m\n\u001b[0;32m     33\u001b[0m \u001b[38;5;28;01mdef\u001b[39;00m \u001b[38;5;21m__init__\u001b[39m(\u001b[38;5;28mself\u001b[39m, ticker, session\u001b[38;5;241m=\u001b[39m\u001b[38;5;28;01mNone\u001b[39;00m):\n\u001b[1;32m---> 34\u001b[0m     \u001b[38;5;28;43msuper\u001b[39;49m\u001b[43m(\u001b[49m\u001b[43mTicker\u001b[49m\u001b[43m,\u001b[49m\u001b[43m \u001b[49m\u001b[38;5;28;43mself\u001b[39;49m\u001b[43m)\u001b[49m\u001b[38;5;241;43m.\u001b[39;49m\u001b[38;5;21;43m__init__\u001b[39;49m\u001b[43m(\u001b[49m\u001b[43mticker\u001b[49m\u001b[43m,\u001b[49m\u001b[43m \u001b[49m\u001b[43msession\u001b[49m\u001b[38;5;241;43m=\u001b[39;49m\u001b[43msession\u001b[49m\u001b[43m)\u001b[49m\n\u001b[0;32m     35\u001b[0m     \u001b[38;5;28mself\u001b[39m\u001b[38;5;241m.\u001b[39m_expirations \u001b[38;5;241m=\u001b[39m {}\n\u001b[0;32m     36\u001b[0m     \u001b[38;5;28mself\u001b[39m\u001b[38;5;241m.\u001b[39m_underlying  \u001b[38;5;241m=\u001b[39m {}\n",
      "File \u001b[1;32mc:\\Users\\aksha\\AppData\\Local\\Programs\\Python\\Python311\\Lib\\site-packages\\yfinance\\base.py:50\u001b[0m, in \u001b[0;36mTickerBase.__init__\u001b[1;34m(self, ticker, session)\u001b[0m\n\u001b[0;32m     49\u001b[0m \u001b[38;5;28;01mdef\u001b[39;00m \u001b[38;5;21m__init__\u001b[39m(\u001b[38;5;28mself\u001b[39m, ticker, session\u001b[38;5;241m=\u001b[39m\u001b[38;5;28;01mNone\u001b[39;00m):\n\u001b[1;32m---> 50\u001b[0m     \u001b[38;5;28mself\u001b[39m\u001b[38;5;241m.\u001b[39mticker \u001b[38;5;241m=\u001b[39m \u001b[43mticker\u001b[49m\u001b[38;5;241;43m.\u001b[39;49m\u001b[43mupper\u001b[49m()\n\u001b[0;32m     51\u001b[0m     \u001b[38;5;28mself\u001b[39m\u001b[38;5;241m.\u001b[39msession \u001b[38;5;241m=\u001b[39m session\n\u001b[0;32m     52\u001b[0m     \u001b[38;5;28mself\u001b[39m\u001b[38;5;241m.\u001b[39m_history \u001b[38;5;241m=\u001b[39m \u001b[38;5;28;01mNone\u001b[39;00m\n",
      "\u001b[1;31mAttributeError\u001b[0m: 'list' object has no attribute 'upper'"
     ]
    }
   ],
   "source": [
    "Mean_Returns, Covar_Matrix = get_data(Stock_List_YFinance,Start_Date,End_Date)"
   ]
  },
  {
   "cell_type": "markdown",
   "metadata": {},
   "source": [
    "## **Assign Portfolio Weights**"
   ]
  },
  {
   "cell_type": "code",
   "execution_count": null,
   "metadata": {},
   "outputs": [],
   "source": [
    "# Crete Random Weights\n",
    "Portfolio_Weights = np.random.random(len(Mean_Returns))\n",
    "print(Portfolio_Weights)\n",
    "\n",
    "# Ensure Weights Add Upto 1\n",
    "Portfolio_Weights /= np.sum(Portfolio_Weights)\n",
    "print(Portfolio_Weights)"
   ]
  }
 ],
 "metadata": {
  "kernelspec": {
   "display_name": "Python 3",
   "language": "python",
   "name": "python3"
  },
  "language_info": {
   "codemirror_mode": {
    "name": "ipython",
    "version": 3
   },
   "file_extension": ".py",
   "mimetype": "text/x-python",
   "name": "python",
   "nbconvert_exporter": "python",
   "pygments_lexer": "ipython3",
   "version": "3.11.6"
  }
 },
 "nbformat": 4,
 "nbformat_minor": 2
}
