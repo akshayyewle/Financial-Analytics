{
 "cells": [
  {
   "cell_type": "markdown",
   "metadata": {},
   "source": [
    "# **Setup**\n",
    "\n",
    "**Reference**\n",
    "* https://www.youtube.com/watch?v=A663NOHPRHE&list=PLB9cczsBXUdnd0pg4ybBmzbNgU9Sx4ED6&index=2"
   ]
  },
  {
   "cell_type": "code",
   "execution_count": 34,
   "metadata": {},
   "outputs": [],
   "source": [
    "import numpy as np \n",
    "import pandas as pd \n",
    "from scipy.stats import norm\n",
    "import yfinance as yf\n",
    "from datetime import datetime, timedelta "
   ]
  },
  {
   "cell_type": "markdown",
   "metadata": {},
   "source": [
    "# **Asian Option Price Prediction**\n",
    "\n",
    "* Using Monte Carlo\n",
    "* Asian Option Pricing: Price Over Certain Duration\n",
    "* European Option Pricing: Price At Maturity "
   ]
  },
  {
   "cell_type": "code",
   "execution_count": 3,
   "metadata": {},
   "outputs": [],
   "source": [
    "SO = 100        # Initial Stock Price\n",
    "K = 105         # Strike Price\n",
    "T = 1           # Time To Maturity\n",
    "r = 0.05        # Short Rate\n",
    "sigma = 0.2     # Volatility\n",
    "M = 50          # Time Steps\n",
    "dt = T/M        # Length Of Time Interval\n",
    "I = 250000      # No. Of Simulations"
   ]
  },
  {
   "cell_type": "code",
   "execution_count": 13,
   "metadata": {},
   "outputs": [
    {
     "name": "stdout",
     "output_type": "stream",
     "text": [
      "(51, 250000)\n"
     ]
    }
   ],
   "source": [
    "np.random.seed(0)\n",
    "\n",
    "# Simulate I Random Paths With M Time Steps\n",
    "S = np.zeros(shape=(M+1,I))\n",
    "print(S.shape)\n",
    "\n",
    "S[0] = SO"
   ]
  },
  {
   "cell_type": "code",
   "execution_count": 32,
   "metadata": {},
   "outputs": [
    {
     "name": "stdout",
     "output_type": "stream",
     "text": [
      "Value Of Asian Option: 3.604232489398991\n"
     ]
    }
   ],
   "source": [
    "for t in range(1,M+1):\n",
    "    S[t] = S[t-1] * np.exp((r-0.5 * sigma ** 2) * dt + sigma * np.sqrt(dt) * np.random.standard_normal(size=I))\n",
    "\n",
    "# Options Payoff\n",
    "hT = np.maximum(np.mean(S[-M:],axis=0) - K,0)\n",
    "\n",
    "# Options Price\n",
    "CO = np.exp(-r * T) * np.sum(hT)/I\n",
    "print(f'Value Of Asian Option: {CO}')"
   ]
  },
  {
   "cell_type": "markdown",
   "metadata": {},
   "source": [
    "# **European Option Pricing**\n",
    "* Using Monte Carlo Simulation"
   ]
  },
  {
   "cell_type": "markdown",
   "metadata": {},
   "source": [
    "## **Get Stock Price Data**"
   ]
  },
  {
   "cell_type": "code",
   "execution_count": 40,
   "metadata": {},
   "outputs": [
    {
     "name": "stdout",
     "output_type": "stream",
     "text": [
      "Start Date 2023-01-04 13:50:44.347723\n",
      "End Date 2024-01-04 13:50:44.347723\n",
      "\n",
      "\n",
      "[*********************100%%**********************]  1 of 1 completed\n"
     ]
    },
    {
     "data": {
      "text/html": [
       "<div>\n",
       "<style scoped>\n",
       "    .dataframe tbody tr th:only-of-type {\n",
       "        vertical-align: middle;\n",
       "    }\n",
       "\n",
       "    .dataframe tbody tr th {\n",
       "        vertical-align: top;\n",
       "    }\n",
       "\n",
       "    .dataframe thead th {\n",
       "        text-align: right;\n",
       "    }\n",
       "</style>\n",
       "<table border=\"1\" class=\"dataframe\">\n",
       "  <thead>\n",
       "    <tr style=\"text-align: right;\">\n",
       "      <th></th>\n",
       "      <th>Open</th>\n",
       "      <th>High</th>\n",
       "      <th>Low</th>\n",
       "      <th>Close</th>\n",
       "      <th>Adj Close</th>\n",
       "      <th>Volume</th>\n",
       "    </tr>\n",
       "    <tr>\n",
       "      <th>Date</th>\n",
       "      <th></th>\n",
       "      <th></th>\n",
       "      <th></th>\n",
       "      <th></th>\n",
       "      <th></th>\n",
       "      <th></th>\n",
       "    </tr>\n",
       "  </thead>\n",
       "  <tbody>\n",
       "    <tr>\n",
       "      <th>2023-12-19</th>\n",
       "      <td>196.160004</td>\n",
       "      <td>196.949997</td>\n",
       "      <td>195.889999</td>\n",
       "      <td>196.940002</td>\n",
       "      <td>196.940002</td>\n",
       "      <td>40714100</td>\n",
       "    </tr>\n",
       "    <tr>\n",
       "      <th>2023-12-20</th>\n",
       "      <td>196.899994</td>\n",
       "      <td>197.679993</td>\n",
       "      <td>194.830002</td>\n",
       "      <td>194.830002</td>\n",
       "      <td>194.830002</td>\n",
       "      <td>52242800</td>\n",
       "    </tr>\n",
       "    <tr>\n",
       "      <th>2023-12-21</th>\n",
       "      <td>196.100006</td>\n",
       "      <td>197.080002</td>\n",
       "      <td>193.500000</td>\n",
       "      <td>194.679993</td>\n",
       "      <td>194.679993</td>\n",
       "      <td>46482500</td>\n",
       "    </tr>\n",
       "    <tr>\n",
       "      <th>2023-12-22</th>\n",
       "      <td>195.179993</td>\n",
       "      <td>195.410004</td>\n",
       "      <td>192.970001</td>\n",
       "      <td>193.600006</td>\n",
       "      <td>193.600006</td>\n",
       "      <td>37122800</td>\n",
       "    </tr>\n",
       "    <tr>\n",
       "      <th>2023-12-26</th>\n",
       "      <td>193.610001</td>\n",
       "      <td>193.889999</td>\n",
       "      <td>192.830002</td>\n",
       "      <td>193.050003</td>\n",
       "      <td>193.050003</td>\n",
       "      <td>28919300</td>\n",
       "    </tr>\n",
       "    <tr>\n",
       "      <th>2023-12-27</th>\n",
       "      <td>192.490005</td>\n",
       "      <td>193.500000</td>\n",
       "      <td>191.089996</td>\n",
       "      <td>193.149994</td>\n",
       "      <td>193.149994</td>\n",
       "      <td>48087700</td>\n",
       "    </tr>\n",
       "    <tr>\n",
       "      <th>2023-12-28</th>\n",
       "      <td>194.139999</td>\n",
       "      <td>194.660004</td>\n",
       "      <td>193.169998</td>\n",
       "      <td>193.580002</td>\n",
       "      <td>193.580002</td>\n",
       "      <td>34049900</td>\n",
       "    </tr>\n",
       "    <tr>\n",
       "      <th>2023-12-29</th>\n",
       "      <td>193.899994</td>\n",
       "      <td>194.399994</td>\n",
       "      <td>191.729996</td>\n",
       "      <td>192.529999</td>\n",
       "      <td>192.529999</td>\n",
       "      <td>42628800</td>\n",
       "    </tr>\n",
       "    <tr>\n",
       "      <th>2024-01-02</th>\n",
       "      <td>187.149994</td>\n",
       "      <td>188.440002</td>\n",
       "      <td>183.889999</td>\n",
       "      <td>185.639999</td>\n",
       "      <td>185.639999</td>\n",
       "      <td>82488700</td>\n",
       "    </tr>\n",
       "    <tr>\n",
       "      <th>2024-01-03</th>\n",
       "      <td>184.220001</td>\n",
       "      <td>185.880005</td>\n",
       "      <td>183.429993</td>\n",
       "      <td>184.250000</td>\n",
       "      <td>184.250000</td>\n",
       "      <td>58371400</td>\n",
       "    </tr>\n",
       "  </tbody>\n",
       "</table>\n",
       "</div>"
      ],
      "text/plain": [
       "                  Open        High         Low       Close   Adj Close  \\\n",
       "Date                                                                     \n",
       "2023-12-19  196.160004  196.949997  195.889999  196.940002  196.940002   \n",
       "2023-12-20  196.899994  197.679993  194.830002  194.830002  194.830002   \n",
       "2023-12-21  196.100006  197.080002  193.500000  194.679993  194.679993   \n",
       "2023-12-22  195.179993  195.410004  192.970001  193.600006  193.600006   \n",
       "2023-12-26  193.610001  193.889999  192.830002  193.050003  193.050003   \n",
       "2023-12-27  192.490005  193.500000  191.089996  193.149994  193.149994   \n",
       "2023-12-28  194.139999  194.660004  193.169998  193.580002  193.580002   \n",
       "2023-12-29  193.899994  194.399994  191.729996  192.529999  192.529999   \n",
       "2024-01-02  187.149994  188.440002  183.889999  185.639999  185.639999   \n",
       "2024-01-03  184.220001  185.880005  183.429993  184.250000  184.250000   \n",
       "\n",
       "              Volume  \n",
       "Date                  \n",
       "2023-12-19  40714100  \n",
       "2023-12-20  52242800  \n",
       "2023-12-21  46482500  \n",
       "2023-12-22  37122800  \n",
       "2023-12-26  28919300  \n",
       "2023-12-27  48087700  \n",
       "2023-12-28  34049900  \n",
       "2023-12-29  42628800  \n",
       "2024-01-02  82488700  \n",
       "2024-01-03  58371400  "
      ]
     },
     "execution_count": 40,
     "metadata": {},
     "output_type": "execute_result"
    }
   ],
   "source": [
    "stock_name = 'AAPL'\n",
    "end_date = datetime.today()\n",
    "start_date = end_date - timedelta(days=365)\n",
    "print('Start Date',start_date)\n",
    "print('End Date',end_date)\n",
    "print('\\n')\n",
    "\n",
    "AAPL_stock_data = yf.download(stock_name,start=start_date,end=end_date)\n",
    "AAPL_stock_data.tail(10)"
   ]
  },
  {
   "cell_type": "markdown",
   "metadata": {},
   "source": [
    "## **Calculate Daily Returns**"
   ]
  },
  {
   "cell_type": "code",
   "execution_count": 43,
   "metadata": {},
   "outputs": [
    {
     "name": "stdout",
     "output_type": "stream",
     "text": [
      "Date\n",
      "2023-01-04         NaN\n",
      "2023-01-05   -0.010605\n",
      "2023-01-06    0.036794\n",
      "2023-01-09    0.004089\n",
      "2023-01-10    0.004457\n",
      "Name: Adj Close, dtype: float64\n"
     ]
    }
   ],
   "source": [
    "# Compute Daily Returns\n",
    "AAPL_Daily_Returns = AAPL_stock_data['Adj Close'].pct_change(1)\n",
    "print(AAPL_Daily_Returns[:5])"
   ]
  },
  {
   "cell_type": "markdown",
   "metadata": {},
   "source": [
    "## **Calculate Stock Volatility**"
   ]
  },
  {
   "cell_type": "code",
   "execution_count": 44,
   "metadata": {},
   "outputs": [
    {
     "name": "stdout",
     "output_type": "stream",
     "text": [
      "Daily AAPL Volatility: 0.012769754252477283\n"
     ]
    }
   ],
   "source": [
    "# Compute Stock Volatility\n",
    "AAPL_Stock_Volatility = AAPL_Daily_Returns.std()\n",
    "print(f'Daily {stock_name} Volatility: {AAPL_Stock_Volatility}')"
   ]
  },
  {
   "cell_type": "markdown",
   "metadata": {},
   "source": [
    "## **Calculate European Options Price**"
   ]
  },
  {
   "cell_type": "code",
   "execution_count": 72,
   "metadata": {},
   "outputs": [],
   "source": [
    "# European Options Price\n",
    "AAPL_Stock_Last_Price = AAPL_stock_data.loc[:,'Adj Close'].iloc[-1]\n",
    "Strike_Price = AAPL_Stock_Last_Price"
   ]
  },
  {
   "cell_type": "code",
   "execution_count": 87,
   "metadata": {},
   "outputs": [],
   "source": [
    "# Define Function\n",
    "def European_Option_Price(S0,Strike_Price,r,v,T,nSim,flag):\n",
    "    z = np.random.standard_normal(nSim)\n",
    "    S_Forward = S0 * np.exp((r-0.5*v**2)*T + v*np.sqrt(T)*z)\n",
    "\n",
    "    if flag == 'call':\n",
    "        payoff = np.max(S_Forward - Strike_Price,0)\n",
    "    elif flag == 'put':\n",
    "        payoff = np.max(Strike_Price - S_Forward,0)\n",
    "    else:\n",
    "        print('Invalid Flag!')\n",
    "        return\n",
    "    return np.exp(-r*T) * np.sum(payoff)/nSim    "
   ]
  },
  {
   "cell_type": "code",
   "execution_count": 86,
   "metadata": {},
   "outputs": [
    {
     "name": "stdout",
     "output_type": "stream",
     "text": [
      "0.00017106719061666382\n",
      "2.0640972393899304e-05\n"
     ]
    }
   ],
   "source": [
    "nSim = 100000\n",
    "Risk_Free_Rate = 0.04\n",
    "Maturity = 1.0 # Year\n",
    "\n",
    "# Call Price\n",
    "AAPL_Call_Option_Price = European_Option_Price(S0=AAPL_Stock_Last_Price,Strike_Price=Strike_Price,r=Risk_Free_Rate,v=AAPL_Stock_Volatility,\n",
    "                      T=Maturity,nSim=nSim,flag='call')\n",
    "print(AAPL_Call_Option_Price)\n",
    "\n",
    "# Put Price\n",
    "AAPL_Put_Option_Price = European_Option_Price(S0=AAPL_Stock_Last_Price,Strike_Price=Strike_Price,r=Risk_Free_Rate,v=AAPL_Stock_Volatility,\n",
    "                      T=Maturity,nSim=nSim,flag='put')\n",
    "print(AAPL_Put_Option_Price)"
   ]
  }
 ],
 "metadata": {
  "kernelspec": {
   "display_name": "Python 3",
   "language": "python",
   "name": "python3"
  },
  "language_info": {
   "codemirror_mode": {
    "name": "ipython",
    "version": 3
   },
   "file_extension": ".py",
   "mimetype": "text/x-python",
   "name": "python",
   "nbconvert_exporter": "python",
   "pygments_lexer": "ipython3",
   "version": "3.11.6"
  }
 },
 "nbformat": 4,
 "nbformat_minor": 2
}
